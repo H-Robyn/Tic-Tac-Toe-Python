{
 "cells": [
  {
   "cell_type": "markdown",
   "id": "b9966c71-36fd-4209-ace6-3c1f6b23720d",
   "metadata": {},
   "source": [
    "Tic-Tac-Toe"
   ]
  },
  {
   "cell_type": "markdown",
   "id": "0c965a8e-7103-48db-9445-658ea353cffa",
   "metadata": {},
   "source": [
    "Print Tic-Tac-Toe Board"
   ]
  },
  {
   "cell_type": "code",
   "execution_count": 1,
   "id": "b84e7813-8bd8-4513-9277-2f2beb85744e",
   "metadata": {},
   "outputs": [],
   "source": [
    "from IPython.display import clear_output\n",
    "def print_board(marker, player = ' ' , position = 0):\n",
    "    clear_output()\n",
    "    marker[position] =player \n",
    "    print()\n",
    "    print(' '+marker[1]+' | '+marker[2]+' | '+marker[3])\n",
    "    print('---|---|---')\n",
    "    print(' '+marker[4]+' | '+marker[5]+' | '+marker[6])\n",
    "    print('---|---|---')\n",
    "    print(' '+marker[7]+' | '+marker[8]+' | '+marker[9])"
   ]
  },
  {
   "cell_type": "markdown",
   "id": "48207af4-20e9-43e8-93bf-87403f80c10f",
   "metadata": {},
   "source": [
    "Player Choose [ X | O ]"
   ]
  },
  {
   "cell_type": "code",
   "execution_count": 2,
   "id": "472cc878-bba1-412e-9d7f-a279768081fb",
   "metadata": {},
   "outputs": [],
   "source": [
    "def player_choose():\n",
    "    player = ''\n",
    "    while not (player == 'X' or player == 'O'):\n",
    "        player = input(\"Enter Player [X | O]: \").upper()\n",
    "        \n",
    "    if player == 'X':\n",
    "        return ('X', 'O')\n",
    "    else:\n",
    "        return ('O', 'X')"
   ]
  },
  {
   "cell_type": "markdown",
   "id": "f3208db1-4315-4e6e-905e-da663dcfd1ab",
   "metadata": {},
   "source": [
    "WinnerCheck"
   ]
  },
  {
   "cell_type": "code",
   "execution_count": 3,
   "id": "eefe9d63-084a-42f3-bf7c-3ccd7f3e5210",
   "metadata": {},
   "outputs": [],
   "source": [
    "def check_winner(board, marker):\n",
    "    return ((board[1] == marker and board[2]== marker and board[3]== marker) or\n",
    "           (board[4] == marker and board[5]== marker and board[6]== marker) or\n",
    "           (board[7] == marker and board[8]== marker and board[9]== marker) or\n",
    "           (board[1] == marker and board[4]== marker and board[7]== marker) or\n",
    "           (board[2] == marker and board[5]== marker and board[8]== marker) or\n",
    "           (board[3] == marker and board[6]== marker and board[9]== marker) or\n",
    "           (board[1] == marker and board[5]== marker and board[9]== marker) or\n",
    "           (board[7] == marker and board[5]== marker and board[3]== marker))\n",
    "\n"
   ]
  },
  {
   "cell_type": "raw",
   "id": "43362588-64e3-463a-aff4-351db05a725f",
   "metadata": {},
   "source": [
    "Choose First and Toggle Player"
   ]
  },
  {
   "cell_type": "code",
   "execution_count": 4,
   "id": "89c70294-22a5-47a3-abad-3e8fb3d5625d",
   "metadata": {},
   "outputs": [],
   "source": [
    "import random \n",
    "def choose_toggle_player():\n",
    "    if random.randint(0,1) == 0:\n",
    "        return 'Player 1'\n",
    "    else:\n",
    "        return 'Player 2'     "
   ]
  },
  {
   "cell_type": "markdown",
   "id": "a2fe0a52-1de5-401e-a342-0d5528d1d8ae",
   "metadata": {},
   "source": [
    "Check Available Space in Board"
   ]
  },
  {
   "cell_type": "code",
   "execution_count": 5,
   "id": "ca3e7b0a-0355-4d63-8544-718aa11d6f52",
   "metadata": {},
   "outputs": [],
   "source": [
    "def space_check(board ,position):\n",
    "    return board[position]== ' '"
   ]
  },
  {
   "cell_type": "markdown",
   "id": "4c577e94-2f86-4c70-8b41-fe458ab377c8",
   "metadata": {},
   "source": [
    "Check if the Board is Full"
   ]
  },
  {
   "cell_type": "code",
   "execution_count": 6,
   "id": "b0b343ed-f994-4f80-8fcf-c371b9131070",
   "metadata": {},
   "outputs": [],
   "source": [
    "def full_check(board):\n",
    "    for i in range(1, 10):\n",
    "        if space_check(board, i):\n",
    "            return False\n",
    "    return True"
   ]
  },
  {
   "cell_type": "markdown",
   "id": "b4fdc8e0-2e37-4468-a200-cb883add6e13",
   "metadata": {},
   "source": [
    "Player Choose the Position to put marker [ X | O ]"
   ]
  },
  {
   "cell_type": "code",
   "execution_count": 7,
   "id": "0ca5bc16-9969-4402-a490-2854d16eb182",
   "metadata": {},
   "outputs": [],
   "source": [
    "def player_choice_position(board):\n",
    "    position = 0\n",
    "    while position not in range(1,10) or not space_check(board, position):\n",
    "        position= int(input(\"Enter The Position: \"))\n",
    "    return position"
   ]
  },
  {
   "cell_type": "markdown",
   "id": "1b64c6d7-1c4f-4ac0-8727-3b7182fa37f3",
   "metadata": {},
   "source": [
    "To Replay the Game"
   ]
  },
  {
   "cell_type": "code",
   "execution_count": 8,
   "id": "56d7e669-5ad5-40a5-bb0d-f2eef6f8b4a8",
   "metadata": {},
   "outputs": [],
   "source": [
    "def replay():\n",
    "    return input(\"Do you want to Play Again? Press [ Yes | No]: \").lower().startswith('y')"
   ]
  },
  {
   "cell_type": "markdown",
   "id": "c0627cb6-fc1d-4e5c-b1ac-f241cc7a30f0",
   "metadata": {},
   "source": [
    "Runner-Code-for-Game"
   ]
  },
  {
   "cell_type": "code",
   "execution_count": 9,
   "id": "4fe4a263-be89-4b6e-a395-4bc0dd69a6fd",
   "metadata": {},
   "outputs": [],
   "source": [
    "def main_runner():\n",
    "    while True:  \n",
    "        print(\"Welcome to Tic-Tac-Toe\",end='\\n')\n",
    "        ttt_board = [' ']*10\n",
    "        player1_marker, player2_marker = player_choose()\n",
    "        turn = choose_toggle_player()\n",
    "        print(turn + ' is First To Move')\n",
    "        play_game = input(\"Are you Ready? Press [Y | N]\").upper()\n",
    "    \n",
    "        if play_game == 'Y':\n",
    "             game_on = True\n",
    "        else:\n",
    "            game_on = False\n",
    "     \n",
    "        while game_on:\n",
    "            if turn == 'Player 1':\n",
    "                print_board(ttt_board)\n",
    "                pos = player_choice_position(ttt_board)\n",
    "                print_board(ttt_board, player1_marker, pos)\n",
    "            \n",
    "                if check_winner(ttt_board, player1_marker):\n",
    "                    print_board(ttt_board)\n",
    "                    print(turn +' You Win!')\n",
    "                    game_on = False\n",
    "                else:            \n",
    "                    if full_check(ttt_board):\n",
    "                        print(ttt_board)\n",
    "                        print('Game Tie')\n",
    "                        break\n",
    "                    else:\n",
    "                        turn = 'Player 2'\n",
    "            else: \n",
    "                print_board(ttt_board)\n",
    "                pos = player_choice_position(ttt_board)\n",
    "                print_board(ttt_board, player2_marker, pos)\n",
    "            \n",
    "                if check_winner(ttt_board, player2_marker):\n",
    "                    print_board(ttt_board)\n",
    "                    print( turn +' You Win!')\n",
    "                    game_on = False\n",
    "                \n",
    "                else:\n",
    "                \n",
    "                    if full_check(ttt_board):\n",
    "                        print_board(ttt_board)\n",
    "                        print('Game Tie')\n",
    "                        break\n",
    "                    else:\n",
    "                        turn = 'Player 1'\n",
    "        \n",
    "        \n",
    "        if not replay():\n",
    "            break "
   ]
  },
  {
   "cell_type": "code",
   "execution_count": 10,
   "id": "99904738-6fb6-42e4-a1fe-3afd6a14b53e",
   "metadata": {},
   "outputs": [
    {
     "name": "stdout",
     "output_type": "stream",
     "text": [
      "\n",
      " O | X | O\n",
      "---|---|---\n",
      " X | X | O\n",
      "---|---|---\n",
      " O | O | X\n",
      "Game Tie\n"
     ]
    },
    {
     "name": "stdin",
     "output_type": "stream",
     "text": [
      "Do you want to Play Again? Press [ Yes | No]:  n\n"
     ]
    }
   ],
   "source": [
    "main_runner()"
   ]
  }
 ],
 "metadata": {
  "kernelspec": {
   "display_name": "Python 3 (ipykernel)",
   "language": "python",
   "name": "python3"
  },
  "language_info": {
   "codemirror_mode": {
    "name": "ipython",
    "version": 3
   },
   "file_extension": ".py",
   "mimetype": "text/x-python",
   "name": "python",
   "nbconvert_exporter": "python",
   "pygments_lexer": "ipython3",
   "version": "3.9.6"
  }
 },
 "nbformat": 4,
 "nbformat_minor": 5
}
